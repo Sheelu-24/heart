{
  "nbformat": 4,
  "nbformat_minor": 0,
  "metadata": {
    "colab": {
      "name": "image similarity.ipynb",
      "provenance": [],
      "authorship_tag": "ABX9TyPoUlgr33LguVcFZGNKI3bn",
      "include_colab_link": true
    },
    "kernelspec": {
      "display_name": "Python 3",
      "name": "python3"
    },
    "language_info": {
      "name": "python"
    }
  },
  "cells": [
    {
      "cell_type": "markdown",
      "metadata": {
        "id": "view-in-github",
        "colab_type": "text"
      },
      "source": [
        "<a href=\"https://colab.research.google.com/github/Sheelu-24/heart/blob/main/image_similarity.ipynb\" target=\"_parent\"><img src=\"https://colab.research.google.com/assets/colab-badge.svg\" alt=\"Open In Colab\"/></a>"
      ]
    },
    {
      "cell_type": "code",
      "metadata": {
        "colab": {
          "base_uri": "https://localhost:8080/"
        },
        "id": "MMMrrqpLnj_o",
        "outputId": "8dfe9e75-98b7-43fe-9785-2029e3c482ed"
      },
      "source": [
        "pip install image-similarity-measures\n"
      ],
      "execution_count": null,
      "outputs": [
        {
          "name": "stdout",
          "output_type": "stream",
          "text": [
            "Collecting image-similarity-measures\n",
            "  Downloading image_similarity_measures-0.3.5-py3-none-any.whl (9.1 kB)\n",
            "Collecting rasterio\n",
            "  Downloading rasterio-1.2.10-cp37-cp37m-manylinux1_x86_64.whl (19.3 MB)\n",
            "\u001b[K     |████████████████████████████████| 19.3 MB 1.2 MB/s \n",
            "\u001b[?25hRequirement already satisfied: numpy in /usr/local/lib/python3.7/dist-packages (from image-similarity-measures) (1.19.5)\n",
            "Requirement already satisfied: scikit-image in /usr/local/lib/python3.7/dist-packages (from image-similarity-measures) (0.18.3)\n",
            "Collecting phasepack\n",
            "  Downloading phasepack-1.5.tar.gz (15 kB)\n",
            "Collecting pyfftw\n",
            "  Downloading pyFFTW-0.12.0-cp37-cp37m-manylinux1_x86_64.whl (2.6 MB)\n",
            "\u001b[K     |████████████████████████████████| 2.6 MB 37.8 MB/s \n",
            "\u001b[?25hRequirement already satisfied: opencv-python in /usr/local/lib/python3.7/dist-packages (from image-similarity-measures) (4.1.2.30)\n",
            "Collecting snuggs>=1.4.1\n",
            "  Downloading snuggs-1.4.7-py3-none-any.whl (5.4 kB)\n",
            "Collecting cligj>=0.5\n",
            "  Downloading cligj-0.7.2-py3-none-any.whl (7.1 kB)\n",
            "Collecting click-plugins\n",
            "  Downloading click_plugins-1.1.1-py2.py3-none-any.whl (7.5 kB)\n",
            "Requirement already satisfied: click>=4.0 in /usr/local/lib/python3.7/dist-packages (from rasterio->image-similarity-measures) (7.1.2)\n",
            "Requirement already satisfied: setuptools in /usr/local/lib/python3.7/dist-packages (from rasterio->image-similarity-measures) (57.4.0)\n",
            "Requirement already satisfied: certifi in /usr/local/lib/python3.7/dist-packages (from rasterio->image-similarity-measures) (2021.10.8)\n",
            "Collecting affine\n",
            "  Downloading affine-2.3.0-py2.py3-none-any.whl (15 kB)\n",
            "Requirement already satisfied: attrs in /usr/local/lib/python3.7/dist-packages (from rasterio->image-similarity-measures) (21.2.0)\n",
            "Requirement already satisfied: pyparsing>=2.1.6 in /usr/local/lib/python3.7/dist-packages (from snuggs>=1.4.1->rasterio->image-similarity-measures) (3.0.6)\n",
            "Requirement already satisfied: scipy>=1.0.1 in /usr/local/lib/python3.7/dist-packages (from scikit-image->image-similarity-measures) (1.4.1)\n",
            "Requirement already satisfied: tifffile>=2019.7.26 in /usr/local/lib/python3.7/dist-packages (from scikit-image->image-similarity-measures) (2021.11.2)\n",
            "Requirement already satisfied: pillow!=7.1.0,!=7.1.1,>=4.3.0 in /usr/local/lib/python3.7/dist-packages (from scikit-image->image-similarity-measures) (7.1.2)\n",
            "Requirement already satisfied: matplotlib!=3.0.0,>=2.0.0 in /usr/local/lib/python3.7/dist-packages (from scikit-image->image-similarity-measures) (3.2.2)\n",
            "Requirement already satisfied: imageio>=2.3.0 in /usr/local/lib/python3.7/dist-packages (from scikit-image->image-similarity-measures) (2.4.1)\n",
            "Requirement already satisfied: PyWavelets>=1.1.1 in /usr/local/lib/python3.7/dist-packages (from scikit-image->image-similarity-measures) (1.2.0)\n",
            "Requirement already satisfied: networkx>=2.0 in /usr/local/lib/python3.7/dist-packages (from scikit-image->image-similarity-measures) (2.6.3)\n",
            "Requirement already satisfied: cycler>=0.10 in /usr/local/lib/python3.7/dist-packages (from matplotlib!=3.0.0,>=2.0.0->scikit-image->image-similarity-measures) (0.11.0)\n",
            "Requirement already satisfied: kiwisolver>=1.0.1 in /usr/local/lib/python3.7/dist-packages (from matplotlib!=3.0.0,>=2.0.0->scikit-image->image-similarity-measures) (1.3.2)\n",
            "Requirement already satisfied: python-dateutil>=2.1 in /usr/local/lib/python3.7/dist-packages (from matplotlib!=3.0.0,>=2.0.0->scikit-image->image-similarity-measures) (2.8.2)\n",
            "Requirement already satisfied: six>=1.5 in /usr/local/lib/python3.7/dist-packages (from python-dateutil>=2.1->matplotlib!=3.0.0,>=2.0.0->scikit-image->image-similarity-measures) (1.15.0)\n",
            "Building wheels for collected packages: phasepack\n",
            "  Building wheel for phasepack (setup.py) ... \u001b[?25l\u001b[?25hdone\n",
            "  Created wheel for phasepack: filename=phasepack-1.5-py3-none-any.whl size=26983 sha256=120b4b728df3e69268c31e6904ee58ee1b6bcf75f9f50c9153392c5b429e8596\n",
            "  Stored in directory: /root/.cache/pip/wheels/39/5c/b3/79292d7ac3f088e858805b5515b45cf5a365106397d936caf1\n",
            "Successfully built phasepack\n",
            "Installing collected packages: snuggs, cligj, click-plugins, affine, rasterio, pyfftw, phasepack, image-similarity-measures\n",
            "Successfully installed affine-2.3.0 click-plugins-1.1.1 cligj-0.7.2 image-similarity-measures-0.3.5 phasepack-1.5 pyfftw-0.12.0 rasterio-1.2.10 snuggs-1.4.7\n"
          ]
        }
      ]
    },
    {
      "cell_type": "code",
      "metadata": {
        "id": "1gXIGrlZs0-m"
      },
      "source": [
        "import cv2\n",
        "import os\n",
        "import image_similarity_measures\n",
        "from sys import argv\n",
        "from image_similarity_measures.quality_metrics import rmse, ssim, sre"
      ],
      "execution_count": null,
      "outputs": []
    },
    {
      "cell_type": "code",
      "metadata": {
        "colab": {
          "background_save": true,
          "base_uri": "https://localhost:8080/",
          "height": 200
        },
        "id": "GiOCfE4-oQ-p",
        "outputId": "a398d0fa-d177-4fa7-d52e-3de7a4b6a06c"
      },
      "source": [
        "mg.copy_file_from_gdrive(fruits)\n",
        "\n",
        "test_img = cv2.imread('test/' + img)"
      ],
      "execution_count": null,
      "outputs": [
        {
          "ename": "NameError",
          "evalue": "ignored",
          "output_type": "error",
          "traceback": [
            "\u001b[0;31m---------------------------------------------------------------------------\u001b[0m",
            "\u001b[0;31mNameError\u001b[0m                                 Traceback (most recent call last)",
            "\u001b[0;32m<ipython-input-7-0b088380d21a>\u001b[0m in \u001b[0;36m<module>\u001b[0;34m()\u001b[0m\n\u001b[0;32m----> 1\u001b[0;31m \u001b[0mimg\u001b[0m\u001b[0;34m.\u001b[0m\u001b[0mcopy_file_from_gdrive\u001b[0m\u001b[0;34m(\u001b[0m\u001b[0mfruits\u001b[0m\u001b[0;34m)\u001b[0m\u001b[0;34m\u001b[0m\u001b[0;34m\u001b[0m\u001b[0m\n\u001b[0m\u001b[1;32m      2\u001b[0m \u001b[0;34m\u001b[0m\u001b[0m\n\u001b[1;32m      3\u001b[0m \u001b[0mtest_img\u001b[0m \u001b[0;34m=\u001b[0m \u001b[0mcv2\u001b[0m\u001b[0;34m.\u001b[0m\u001b[0mimread\u001b[0m\u001b[0;34m(\u001b[0m\u001b[0;34m'test/'\u001b[0m \u001b[0;34m+\u001b[0m \u001b[0mimg\u001b[0m\u001b[0;34m)\u001b[0m\u001b[0;34m\u001b[0m\u001b[0;34m\u001b[0m\u001b[0m\n",
            "\u001b[0;31mNameError\u001b[0m: name 'img' is not defined"
          ]
        }
      ]
    },
    {
      "cell_type": "code",
      "metadata": {
        "id": "Mufre66ZoRK7"
      },
      "source": [
        "ssim_measures = {}\n",
        "rmse_measures = {}\n",
        "sre_measures = {}"
      ],
      "execution_count": null,
      "outputs": []
    },
    {
      "cell_type": "code",
      "metadata": {
        "id": "gC72XG4roRNv"
      },
      "source": [
        "scale_percent = 100 # percent of original img size\n",
        "width = int(test_img.shape[1] * scale_percent / 100)\n",
        "height = int(test_img.shape[0] * scale_percent / 100)\n",
        "dim = (width, height)\n",
        "\n",
        "data_dir = 'dataset'"
      ],
      "execution_count": null,
      "outputs": []
    },
    {
      "cell_type": "code",
      "metadata": {
        "id": "k_IQJAznoRQV"
      },
      "source": [
        "for file in os.listdir(data_dir):\n",
        "\timg_path = os.path.join(data_dir, file)\n",
        "\tdata_img = cv2.imread(img_path)\n",
        "\tresized_img = cv2.resize(data_img, dim, interpolation = cv2.INTER_AREA)\n",
        "\tssim_measures[img_path]= ssim(test_img, resized_img)\n",
        "\trmse_measures[img_path]= rmse(test_img, resized_img)\n",
        "\tsre_measures[img_path]= sre(test_img, resized_img)"
      ],
      "execution_count": null,
      "outputs": []
    },
    {
      "cell_type": "code",
      "metadata": {
        "id": "JAUCXPJooRTf"
      },
      "source": [
        "def calc_closest_val(dict, checkMax):\n",
        "    result = {}\n",
        "    if (checkMax):\n",
        "    \tclosest = max(dict.values())\n",
        "    else:\n",
        "    \tclosest = min(dict.values())\n",
        "    \t\t\n",
        "    for key, value in dict.items():\n",
        "    \tprint(\"The difference between \", key ,\" and the original image is : \\n\", value)\n",
        "    \tif (value == closest):\n",
        "    \t    result[key] = closest\n",
        "    \t    \n",
        "    print(\"The closest value: \", closest)\t    \n",
        "    print(\"######################################################################\")\n",
        "    return result"
      ],
      "execution_count": null,
      "outputs": []
    },
    {
      "cell_type": "code",
      "metadata": {
        "id": "ydkqTIP6oRW9"
      },
      "source": [
        "ssim = calc_closest_val(ssim_measures, True)\n",
        "rmse = calc_closest_val(rmse_measures, False)\n",
        "sre = calc_closest_val(sre_measures, True)\n",
        "\n",
        "print(\"The most similar according to SSIM: \" , ssim)\n",
        "print(\"The most similar according to RMSE: \" , rmse)\n",
        "print(\"The most similar according to SRE: \" , sre)"
      ],
      "execution_count": null,
      "outputs": []
    }
  ]
}